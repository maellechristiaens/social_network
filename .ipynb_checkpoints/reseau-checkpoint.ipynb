{
 "cells": [
  {
   "cell_type": "markdown",
   "metadata": {},
   "source": [
    "##Blabla d'la pookie"
   ]
  },
  {
   "cell_type": "code",
   "execution_count": null,
   "metadata": {},
   "outputs": [],
   "source": [
    "import numpy as np\n",
    "import matplotlib.pyplot as plt "
   ]
  },
  {
   "cell_type": "code",
   "execution_count": null,
   "metadata": {},
   "outputs": [],
   "source": [
    "fichier = 'C:\\Users\\maell\\Documents\\ENS\\Cours\\Césure\\Stage_Sliwa\\Strasbourg\\Code\\data_rhesus_test.xlsx'"
   ]
  },
  {
   "cell_type": "code",
   "execution_count": null,
   "metadata": {},
   "outputs": [],
   "source": [
    "individus = ['Ulysse', 'Quinoa', 'Linconnue', 'Kabuki', 'Volga', 'Vega', 'Theoden', 'Boromir', 'Arwen', 'Faramir',\n",
    "'Eowyn', 'Djoko', 'Spliff', 'Yelena', 'Anyanka', 'Vladimir', 'Ivan', 'Natasha']"
   ]
  },
  {
   "cell_type": "code",
   "execution_count": null,
   "metadata": {},
   "outputs": [],
   "source": [
    "freq_groom = np.array([[0,1],[0.5, 0.7]])\n",
    "\n",
    "plt.hist2d()\n"
   ]
  },
  {
   "cell_type": "code",
   "execution_count": null,
   "metadata": {},
   "outputs": [],
   "source": []
  },
  {
   "cell_type": "code",
   "execution_count": null,
   "metadata": {},
   "outputs": [],
   "source": []
  }
 ],
 "metadata": {
  "kernelspec": {
   "display_name": "Python 3",
   "language": "python",
   "name": "python3"
  },
  "language_info": {
   "name": ""
  }
 },
 "nbformat": 4,
 "nbformat_minor": 4
}
